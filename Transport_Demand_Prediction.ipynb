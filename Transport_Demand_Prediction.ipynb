{
 "cells": [
  {
   "cell_type": "code",
   "execution_count": 2,
   "id": "eca7c0d1-2e2b-4d47-9269-99d87255524b",
   "metadata": {},
   "outputs": [
    {
     "name": "stdout",
     "output_type": "stream",
     "text": [
      "Best parameters found:  {'regressor__learning_rate': 0.2, 'regressor__max_depth': 5, 'regressor__n_estimators': 300}\n",
      "Best RMSE found:  1.9135488840491788\n",
      "Mean Squared Error on test set: 9.055192964860789\n"
     ]
    },
    {
     "data": {
      "text/plain": [
       "['seat_demand_prediction_model.pkl']"
      ]
     },
     "execution_count": 2,
     "metadata": {},
     "output_type": "execute_result"
    }
   ],
   "source": [
    "import pandas as pd\n",
    "import numpy as np\n",
    "from sklearn.model_selection import train_test_split, GridSearchCV, KFold\n",
    "from sklearn.metrics import mean_squared_error\n",
    "from sklearn.ensemble import GradientBoostingRegressor\n",
    "from sklearn.preprocessing import OneHotEncoder\n",
    "from sklearn.compose import ColumnTransformer\n",
    "from sklearn.pipeline import Pipeline\n",
    "from sklearn.impute import SimpleImputer\n",
    "from sklearn.preprocessing import StandardScaler\n",
    "import joblib\n",
    "\n",
    "# Example dataset creation\n",
    "data = {\n",
    "    'ride_id': [1, 2, 3, 4, 5, 6],\n",
    "    'seat_number': [1, 2, 3, 4, 5, 6],\n",
    "    'payment_method': ['Mpesa', 'Cash', 'Mpesa', 'Cash', 'Mpesa', 'Cash'],\n",
    "    'payment_receipt': ['0001', '0002', '0003', '0004', '0005', '0006'],\n",
    "    'travel_date': ['01/01/2023', '01/01/2023', '01/02/2023', '01/02/2023', '01/03/2023', '01/03/2023'],\n",
    "    'travel_time': ['08:00', '09:00', '07:30', '10:00', '08:30', '09:30'],\n",
    "    'travel_from': ['Awendo', 'Homa Bay', 'Kisii', 'Migori', 'Kehancha', 'Rongo'],\n",
    "    'travel_to': ['Nairobi', 'Nairobi', 'Nairobi', 'Nairobi', 'Nairobi', 'Nairobi'],\n",
    "    'car_type': ['shuttle', 'bus', 'shuttle', 'bus', 'shuttle', 'bus'],\n",
    "    'max_capacity': [11, 25, 12, 30, 10, 28]\n",
    "}\n",
    "\n",
    "df = pd.DataFrame(data)\n",
    "\n",
    "# Data preprocessing\n",
    "# Convert travel_date and travel_time to datetime objects\n",
    "df['travel_date'] = pd.to_datetime(df['travel_date'], format='%m/%d/%Y')\n",
    "df['travel_time'] = pd.to_datetime(df['travel_time'], format='%H:%M').dt.time\n",
    "\n",
    "# Feature engineering\n",
    "# Assuming `travel_duration` is calculated based on provided information (8-9 hours to outskirts, 2-3 hours to CBD)\n",
    "df['travel_duration'] = np.random.randint(8, 10, size=len(df)) + np.random.uniform(2, 3, size=len(df))\n",
    "\n",
    "# Define features and target\n",
    "features = ['travel_date', 'travel_time', 'travel_from', 'car_type', 'travel_duration']\n",
    "target = 'seat_number'\n",
    "\n",
    "# Split data into train and test sets\n",
    "X_train, X_test, y_train, y_test = train_test_split(df[features], df[target], test_size=0.2, random_state=42)\n",
    "\n",
    "# Preprocessing pipeline for numeric and categorical features\n",
    "numeric_features = ['travel_duration']\n",
    "numeric_transformer = Pipeline(steps=[\n",
    "    ('imputer', SimpleImputer(strategy='mean')),\n",
    "    ('scaler', StandardScaler())\n",
    "])\n",
    "\n",
    "categorical_features = ['travel_from', 'car_type']\n",
    "categorical_transformer = Pipeline(steps=[\n",
    "    ('imputer', SimpleImputer(strategy='constant', fill_value='missing')),\n",
    "    ('onehot', OneHotEncoder(handle_unknown='ignore'))\n",
    "])\n",
    "\n",
    "preprocessor = ColumnTransformer(\n",
    "    transformers=[\n",
    "        ('num', numeric_transformer, numeric_features),\n",
    "        ('cat', categorical_transformer, categorical_features)\n",
    "    ])\n",
    "\n",
    "# Append regressor to preprocessing pipeline\n",
    "model = Pipeline(steps=[('preprocessor', preprocessor),\n",
    "                        ('regressor', GradientBoostingRegressor())])\n",
    "\n",
    "# Define parameter grid for hyperparameter tuning\n",
    "param_grid = {\n",
    "    'regressor__n_estimators': [100, 200, 300],\n",
    "    'regressor__learning_rate': [0.05, 0.1, 0.2],\n",
    "    'regressor__max_depth': [3, 4, 5]\n",
    "}\n",
    "\n",
    "# Grid search CV to find best parameters with 3-fold cross-validation\n",
    "kf = KFold(n_splits=3, shuffle=True, random_state=42)\n",
    "grid_search = GridSearchCV(model, param_grid, cv=kf, scoring='neg_mean_squared_error')\n",
    "grid_search.fit(X_train, y_train)\n",
    "\n",
    "# Best parameters and best score\n",
    "print(\"Best parameters found: \", grid_search.best_params_)\n",
    "print(\"Best RMSE found: \", np.sqrt(-grid_search.best_score_))\n",
    "\n",
    "# Predict on test set\n",
    "y_pred = grid_search.best_estimator_.predict(X_test)\n",
    "\n",
    "# Evaluate model\n",
    "mse = mean_squared_error(y_test, y_pred)\n",
    "print(f'Mean Squared Error on test set: {mse}')\n",
    "\n",
    "# Serialize the model for deployment\n",
    "joblib.dump(grid_search.best_estimator_, 'seat_demand_prediction_model.pkl')\n",
    "\n",
    "# Example of how to load the model later\n",
    "# loaded_model = joblib.load('seat_demand_prediction_model.pkl')\n",
    "# result = loaded_model.predict(new_data)\n"
   ]
  },
  {
   "cell_type": "code",
   "execution_count": null,
   "id": "147d410d-3fb6-4fe2-86eb-9ad3c1ab7cd2",
   "metadata": {},
   "outputs": [],
   "source": []
  }
 ],
 "metadata": {
  "kernelspec": {
   "display_name": "Python 3 (ipykernel)",
   "language": "python",
   "name": "python3"
  },
  "language_info": {
   "codemirror_mode": {
    "name": "ipython",
    "version": 3
   },
   "file_extension": ".py",
   "mimetype": "text/x-python",
   "name": "python",
   "nbconvert_exporter": "python",
   "pygments_lexer": "ipython3",
   "version": "3.12.3"
  }
 },
 "nbformat": 4,
 "nbformat_minor": 5
}
